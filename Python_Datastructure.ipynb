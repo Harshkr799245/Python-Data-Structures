{
  "nbformat": 4,
  "nbformat_minor": 0,
  "metadata": {
    "colab": {
      "provenance": []
    },
    "kernelspec": {
      "name": "python3",
      "display_name": "Python 3"
    },
    "language_info": {
      "name": "python"
    }
  },
  "cells": [
    {
      "cell_type": "markdown",
      "source": [
        "#Data Types and Structures Questions"
      ],
      "metadata": {
        "id": "IXT_tUTTtiY1"
      }
    },
    {
      "cell_type": "markdown",
      "source": [
        "  \n",
        " 1. What are data structures, and why are they important?\n",
        "   -  Data structures are ways to store and organize data efficiently. They're crucial for writing optimized code for search, insertion, deletion, and data management.\n",
        "\n",
        " 2.  Explain the difference between mutable and immutable data types with examples.\n",
        "   - Mutable: Can be changed after creation. Example: list, dict, set.\n",
        "\n",
        "   - Immutable: Cannot be changed after creation. Example: int, str, tuple.\n",
        "\n",
        " 3. What are the main differences between lists and tuples in Python?\n",
        "   - List: Mutable,\tDefined using square brackets [ ], slower, uses more memory,Collections that need to be modified (add, remove, change elements).\n",
        "\n",
        "  -  Tuple: Immutable,Defined using parentheses ( ) faster, uses less memory, Fixed collections, data integrity is crucial.\n",
        "\n",
        " 4. Describe how dictionaries store data.\n",
        "   - Dictionaries store data as unordered collections of key-value pairs. Each item in a dictionary is a pair, with a unique key and its associated value. Keys are used to access the corresponding values, enabling efficient data retrieval.\n",
        "\n",
        " 5. Why might you use a set instead of a list in Python?\n",
        "   -  A set is preferred over a list in Python when the primary need is to manage a collection of unique elements efficiently. Sets inherently enforce uniqueness, automatically discarding any duplicate values. This makes them ideal for tasks such as removing duplicates from a sequence or testing membership.\n",
        "\n",
        " 6. What is a string in Python, and how is it different from a list?\n",
        "   - In Python, a string is a sequence of characters enclosed in quotes (single or double), while a list is an ordered collection of items enclosed in square brackets [ ]. Strings are immutable, meaning they cannot be changed after creation, whereas lists are mutable and can be modified.\n",
        "\n",
        "7. How do tuples ensure data integrity in Python?\n",
        "  - Tuples ensure data integrity in Python through their immutability. Once a tuple is created, its contents cannot be modified, ensuring the data remains consistent and reliable throughout the program's execution. This makes them ideal for storing data that needs to be protected from accidental or unauthorized changes.\n",
        "\n",
        "8. What is a hash table, and how does it relate to dictionaries in Python?\n",
        "  -  A hash table is a data structure that stores key-value pairs, using a hash function to compute the index for each key, allowing for fast data retrieval.  \n",
        "   - In Python 3, dictionaries are implemented using hash tables. When a key-value pair is added to a dictionary, Python calculates the hash value of the key and uses it to determine where to store the value in the underlying hash table.\n",
        "\n",
        "9. Can lists contain different data types in Python?\n",
        "  -  Yes, Python lists are designed to accommodate elements of different data types within the same list.\n",
        "\n",
        "10. Explain why strings are immutable in Python.    \n",
        "  - For performance, thread safety, and to ensure data consistency when used as keys in dictionaries.\n",
        "\n",
        "11. What advantages do dictionaries offer over lists for certain tasks?\n",
        "  - Dictionaries offer faster lookup, more flexible storage, and improved readability compared to lists for tasks involving associating data with unique identifiers. Lists, while useful for ordered data, require sequential searching, making them less efficient for lookups by key.\n",
        "\n",
        "12. Describe a scenario where using a tuple would be preferable over a list.\n",
        "\n",
        "  -  If we want to store fixed, unchangeable data (e.g., coordinates, constant configuration).\n",
        "  - Storing coordinates:\n",
        "A tuple like (x, y) perfectly represents a point on a graph and should remain constant.\n",
        "\n",
        "13. How do sets handle duplicate values in Python?\n",
        "  -  Sets in Python 3 are designed to store only unique elements. When attempting to add a duplicate value to a set, it is automatically ignored, ensuring that the set maintains its property of containing only distinct elements.\n",
        "\n",
        "14. How does the “in” keyword work differently for lists and dictionaries?\n",
        "  - The \"in\" keyword functions differently for lists and dictionaries in Python. For lists, it checks if a given value exists as an element within the list. For dictionaries, it checks if a given key exists within the dictionary.\n",
        "\n",
        "15. Can you modify the elements of a tuple? Explain why or why not\n",
        "  -  No, you cannot directly modify the elements of a tuple in Python. Tuples are immutable data structures, meaning their elements cannot be changed after they are created. Attempting to assign a new value to an element within a tuple will raise a TypeError.\n",
        "\n",
        "16. What is a nested dictionary, and give an example of its use case?\n",
        "  - A nested dictionary in Python is a dictionary whose values are themselves dictionaries. This allows for creating hierarchical data structures, where each level of the structure can store related information.\n",
        "  - Example: {'person': {'name': 'John', 'age': 30}}\n",
        "\n",
        "17. Describe the time complexity of accessing elements in a dictionary.\n",
        "  - The time complexity of accessing an element in a dictionary (also known as a hash table or associative array) is typically O(1), meaning it takes constant time regardless of the dictionary's size. This is because dictionaries use hashing to map keys to their corresponding values, allowing for direct access to the desired value in a single step.\n",
        "\n",
        "18. In what situations are lists preferred over dictionaries?\n",
        "  - Lists are preferred over dictionaries when the order of elements is crucial, the data is accessed by index, or when operations like appending, extending, or inserting are frequently used.\n",
        "\n",
        "19. Why are dictionaries considered unordered, and how does that affect data retrieval?\n",
        "  - Dictionaries are considered unordered because they are primarily designed for fast key-based lookup, not for maintaining a specific order of elements. This means that when accessing or iterating through a dictionary, the order of elements is not guaranteed to be the same as the order they were inserted in, although some implementations.\n",
        "\n",
        "20. Explain the difference between a list and a dictionary in terms of data retrieval.  \n",
        "  - In terms of data retrieval, a list uses numerical indices (starting from 0) to access its elements, while a dictionary uses unique keys to access its associated values. This means dictionaries offer faster lookups for retrieving specific data based on a key, while lists excel at ordered sequence operations.\n",
        "  \n"
      ],
      "metadata": {
        "id": "hGHmaK0uiQB2"
      }
    },
    {
      "cell_type": "markdown",
      "source": [
        "#Practical Questions"
      ],
      "metadata": {
        "id": "1xIX0Ce-tSIG"
      }
    },
    {
      "cell_type": "markdown",
      "source": [
        "1.Write a code to create a string with your name and print it."
      ],
      "metadata": {
        "id": "4oske-wMtZ3b"
      }
    },
    {
      "cell_type": "code",
      "source": [
        "name = \"Harsh Kumar\"\n",
        "print(name)"
      ],
      "metadata": {
        "colab": {
          "base_uri": "https://localhost:8080/"
        },
        "id": "HAYbUT_Et8Os",
        "outputId": "a961cb1e-8d6f-45d7-cfcd-e3bed166e737"
      },
      "execution_count": 1,
      "outputs": [
        {
          "output_type": "stream",
          "name": "stdout",
          "text": [
            "Harsh Kumar\n"
          ]
        }
      ]
    },
    {
      "cell_type": "markdown",
      "source": [
        "2. Write a code to find the length of the string \"Hello World\"."
      ],
      "metadata": {
        "id": "UIaB7QdGuMrf"
      }
    },
    {
      "cell_type": "code",
      "source": [
        "print(len(\"Hello World\"))"
      ],
      "metadata": {
        "colab": {
          "base_uri": "https://localhost:8080/"
        },
        "id": "vKwzy5HKuSFI",
        "outputId": "e1d319de-a848-4a18-ebb6-e646f48e6ae0"
      },
      "execution_count": 3,
      "outputs": [
        {
          "output_type": "stream",
          "name": "stdout",
          "text": [
            "11\n"
          ]
        }
      ]
    },
    {
      "cell_type": "markdown",
      "source": [
        "3. Write a code to slice the first 3 characters from the string \"Python Programming\"."
      ],
      "metadata": {
        "id": "sQlcicjEudsd"
      }
    },
    {
      "cell_type": "code",
      "source": [
        "word = \"Python Programming\"\n",
        "print(word[:3])"
      ],
      "metadata": {
        "colab": {
          "base_uri": "https://localhost:8080/"
        },
        "id": "sp_7D-YBulOE",
        "outputId": "ec2d3f37-f89e-4773-d4a5-13f039782d4a"
      },
      "execution_count": 5,
      "outputs": [
        {
          "output_type": "stream",
          "name": "stdout",
          "text": [
            "Pyt\n"
          ]
        }
      ]
    },
    {
      "cell_type": "markdown",
      "source": [
        "4. Write a code to convert the string \"hello\" to uppercase."
      ],
      "metadata": {
        "id": "h-8cBAHLvECo"
      }
    },
    {
      "cell_type": "code",
      "source": [
        "print(\"hello\".upper())"
      ],
      "metadata": {
        "colab": {
          "base_uri": "https://localhost:8080/"
        },
        "id": "AgcihUe-vKXy",
        "outputId": "f613c933-2479-48cc-a1fd-b22522ca3a23"
      },
      "execution_count": 6,
      "outputs": [
        {
          "output_type": "stream",
          "name": "stdout",
          "text": [
            "HELLO\n"
          ]
        }
      ]
    },
    {
      "cell_type": "markdown",
      "source": [
        "5. Write a code to replace the word \"apple\" with \"orange\" in the string \"I like apple\"\n"
      ],
      "metadata": {
        "id": "SHInQ51yvgXL"
      }
    },
    {
      "cell_type": "code",
      "source": [
        "string = \"I like apple. \"\n",
        "replaced_string = string.replace(\"apple\", \"orange\")\n",
        "print(replaced_string)"
      ],
      "metadata": {
        "colab": {
          "base_uri": "https://localhost:8080/"
        },
        "id": "BOwlpPhJvuHp",
        "outputId": "c4bacc1f-5657-4bd1-e8fb-046d25e3e779"
      },
      "execution_count": 9,
      "outputs": [
        {
          "output_type": "stream",
          "name": "stdout",
          "text": [
            "I like orange. \n"
          ]
        }
      ]
    },
    {
      "cell_type": "markdown",
      "source": [
        "6. Write a code to create a list with numbers 1 to 5 and print it."
      ],
      "metadata": {
        "id": "i_fahnWMwdkU"
      }
    },
    {
      "cell_type": "code",
      "source": [
        "nums = [1, 2, 3, 4, 5]\n",
        "print(nums)"
      ],
      "metadata": {
        "colab": {
          "base_uri": "https://localhost:8080/"
        },
        "id": "5KI4jCy0w8qa",
        "outputId": "694f70d9-f710-48c6-b917-f0778a7368c9"
      },
      "execution_count": 12,
      "outputs": [
        {
          "output_type": "stream",
          "name": "stdout",
          "text": [
            "[1, 2, 3, 4, 5]\n"
          ]
        }
      ]
    },
    {
      "cell_type": "code",
      "source": [
        "# Or\n",
        "L = []\n",
        "for i in range(1, 6):\n",
        "  L.append(i)\n",
        "print(L)"
      ],
      "metadata": {
        "colab": {
          "base_uri": "https://localhost:8080/"
        },
        "id": "q3tTfNE5winh",
        "outputId": "12c51a26-bcb7-4d72-c8a1-1ae5498556d8"
      },
      "execution_count": 13,
      "outputs": [
        {
          "output_type": "stream",
          "name": "stdout",
          "text": [
            "[1, 2, 3, 4, 5]\n"
          ]
        }
      ]
    },
    {
      "cell_type": "markdown",
      "source": [
        "7. Write a code to append the number 10 to the list [1, 2, 3, 4].\n"
      ],
      "metadata": {
        "id": "oIKDcaawxHas"
      }
    },
    {
      "cell_type": "code",
      "source": [
        "list1 = [1,2,3,4]\n",
        "list1.append(10)\n",
        "print(list1)"
      ],
      "metadata": {
        "colab": {
          "base_uri": "https://localhost:8080/"
        },
        "id": "G4Gu12ymxUM3",
        "outputId": "bfec9d34-2af9-46c4-ac4e-ce49622ecedd"
      },
      "execution_count": 15,
      "outputs": [
        {
          "output_type": "stream",
          "name": "stdout",
          "text": [
            "[1, 2, 3, 4, 10]\n"
          ]
        }
      ]
    },
    {
      "cell_type": "markdown",
      "source": [
        "8.  Write a code to remove the number 3 from the list [1, 2, 3, 4, 5]\n"
      ],
      "metadata": {
        "id": "bRpu4HWTyI3y"
      }
    },
    {
      "cell_type": "code",
      "source": [
        "list2 = [1,2,3,4,5]\n",
        "list2.remove(3)\n",
        "print(list2)"
      ],
      "metadata": {
        "colab": {
          "base_uri": "https://localhost:8080/"
        },
        "id": "vNy4OTucyQcQ",
        "outputId": "d62718f5-3fed-4e3a-c0a8-215b0577e0bf"
      },
      "execution_count": 16,
      "outputs": [
        {
          "output_type": "stream",
          "name": "stdout",
          "text": [
            "[1, 2, 4, 5]\n"
          ]
        }
      ]
    },
    {
      "cell_type": "markdown",
      "source": [
        "9. Write a code to access the second element in the list ['a', 'b', 'c', 'd'].\n"
      ],
      "metadata": {
        "id": "L7Ucpg9sylD2"
      }
    },
    {
      "cell_type": "code",
      "source": [
        "list3 = ['a', 'b', 'c', 'd']\n",
        "print(list3[1])"
      ],
      "metadata": {
        "colab": {
          "base_uri": "https://localhost:8080/"
        },
        "id": "h_IiN4BIyrH6",
        "outputId": "44b08444-76cd-4c9e-fdaa-7167a8012a58"
      },
      "execution_count": 19,
      "outputs": [
        {
          "output_type": "stream",
          "name": "stdout",
          "text": [
            "b\n"
          ]
        }
      ]
    },
    {
      "cell_type": "markdown",
      "source": [
        "10. Write a code to reverse the list [10, 20, 30, 40, 50]."
      ],
      "metadata": {
        "id": "LcqBP1txy-FA"
      }
    },
    {
      "cell_type": "code",
      "source": [
        "L4 = [10, 20, 30, 40, 50]\n",
        "L4.reverse()\n",
        "print(L4)"
      ],
      "metadata": {
        "colab": {
          "base_uri": "https://localhost:8080/"
        },
        "id": "qEBdlhXQz_aA",
        "outputId": "f83776fa-86a8-40a8-d5b6-42c75a617e40"
      },
      "execution_count": 24,
      "outputs": [
        {
          "output_type": "stream",
          "name": "stdout",
          "text": [
            "[50, 40, 30, 20, 10]\n"
          ]
        }
      ]
    },
    {
      "cell_type": "code",
      "source": [
        "#OR\n",
        "list4 = [10, 20, 30, 40, 50]\n",
        "reversed_list4 = list4[::-1]\n",
        "print(reversed_list4)"
      ],
      "metadata": {
        "colab": {
          "base_uri": "https://localhost:8080/"
        },
        "id": "BhN-SRdjzI-z",
        "outputId": "3125b64e-7c72-45fd-bf59-0287113606b3"
      },
      "execution_count": 25,
      "outputs": [
        {
          "output_type": "stream",
          "name": "stdout",
          "text": [
            "[50, 40, 30, 20, 10]\n"
          ]
        }
      ]
    },
    {
      "cell_type": "markdown",
      "source": [
        "11. Write a code to create a tuple with the elements 100, 200, 300 and print it."
      ],
      "metadata": {
        "id": "c_rn_0kI0QFE"
      }
    },
    {
      "cell_type": "code",
      "source": [
        "tuple1 = (100, 200, 300)\n",
        "print(tuple1)"
      ],
      "metadata": {
        "colab": {
          "base_uri": "https://localhost:8080/"
        },
        "id": "a4DIZsQmz8fo",
        "outputId": "1a5daa79-119b-4726-864d-0306e0bc5258"
      },
      "execution_count": 27,
      "outputs": [
        {
          "output_type": "stream",
          "name": "stdout",
          "text": [
            "(100, 200, 300)\n"
          ]
        }
      ]
    },
    {
      "cell_type": "markdown",
      "source": [
        "12. Write a code to access the second-to-last element of the tuple ('red', 'green', 'blue', 'yellow')."
      ],
      "metadata": {
        "id": "HmvaJp4h0v-V"
      }
    },
    {
      "cell_type": "code",
      "source": [
        "tuple2 = ('red', 'green', 'blue', 'yellow')\n",
        "print(tuple2[-2])"
      ],
      "metadata": {
        "colab": {
          "base_uri": "https://localhost:8080/"
        },
        "id": "_uF1GOGk02G9",
        "outputId": "817e77b7-47f8-4c51-debe-2d7164c7e4ff"
      },
      "execution_count": 28,
      "outputs": [
        {
          "output_type": "stream",
          "name": "stdout",
          "text": [
            "blue\n"
          ]
        }
      ]
    },
    {
      "cell_type": "markdown",
      "source": [
        "13. Write a code to find the minimum number in the tuple (10, 20, 5, 15)."
      ],
      "metadata": {
        "id": "oTtgrhCb1HC4"
      }
    },
    {
      "cell_type": "code",
      "source": [
        "num = (10, 20, 5, 15)\n",
        "print(min(num))"
      ],
      "metadata": {
        "colab": {
          "base_uri": "https://localhost:8080/"
        },
        "id": "OW1aRZTE1JpB",
        "outputId": "8f95283a-4355-478e-a2e5-9f6e030d954b"
      },
      "execution_count": 31,
      "outputs": [
        {
          "output_type": "stream",
          "name": "stdout",
          "text": [
            "5\n"
          ]
        }
      ]
    },
    {
      "cell_type": "markdown",
      "source": [
        "14. Write a code to find the index of the element \"cat\" in the tuple ('dog', 'cat', 'rabbit')."
      ],
      "metadata": {
        "id": "Z5DuzzeP1mp6"
      }
    },
    {
      "cell_type": "code",
      "source": [
        "pet =  ('dog', 'cat', 'rabbit')\n",
        "print(pet.index(\"cat\"))"
      ],
      "metadata": {
        "colab": {
          "base_uri": "https://localhost:8080/"
        },
        "id": "1Jg32Lvy1rtz",
        "outputId": "b4ec8d58-2811-4268-e384-87a03df681fe"
      },
      "execution_count": 33,
      "outputs": [
        {
          "output_type": "stream",
          "name": "stdout",
          "text": [
            "1\n"
          ]
        }
      ]
    },
    {
      "cell_type": "markdown",
      "source": [
        "15. Write a code to create a tuple containing three different fruits and check if \"kiwi\" is in it."
      ],
      "metadata": {
        "id": "n-_yx8gl2LKz"
      }
    },
    {
      "cell_type": "code",
      "source": [
        "fruits = (\"apple, kiwi, banana\")\n",
        "print(\"kiwi\" in fruits)"
      ],
      "metadata": {
        "colab": {
          "base_uri": "https://localhost:8080/"
        },
        "id": "JP7PZtQM2Q3M",
        "outputId": "f496191c-cda1-4ac9-eda3-39cbee76b018"
      },
      "execution_count": 34,
      "outputs": [
        {
          "output_type": "stream",
          "name": "stdout",
          "text": [
            "True\n"
          ]
        }
      ]
    },
    {
      "cell_type": "markdown",
      "source": [
        "16. Write a code to create a set with the elements 'a', 'b', 'c' and print it."
      ],
      "metadata": {
        "id": "xNvKXRpI2usg"
      }
    },
    {
      "cell_type": "code",
      "source": [
        "set_s = {'a', 'b', 'c'}\n",
        "print(set_s)"
      ],
      "metadata": {
        "colab": {
          "base_uri": "https://localhost:8080/"
        },
        "id": "4dRGQAIf2xe4",
        "outputId": "1438f1bd-cd13-4b27-b311-9503eed59f4a"
      },
      "execution_count": 55,
      "outputs": [
        {
          "output_type": "stream",
          "name": "stdout",
          "text": [
            "{'a', 'b', 'c'}\n"
          ]
        }
      ]
    },
    {
      "cell_type": "markdown",
      "source": [
        "17. Write a code to clear all elements from the set {1, 2, 3, 4, 5}."
      ],
      "metadata": {
        "id": "jMWItnFB3EKk"
      }
    },
    {
      "cell_type": "code",
      "source": [
        "set1 = {1, 2, 3, 4, 5}\n",
        "set1.clear()\n",
        "print(set1)"
      ],
      "metadata": {
        "colab": {
          "base_uri": "https://localhost:8080/"
        },
        "id": "VKOOh0En3L_V",
        "outputId": "e00324c5-bfb1-459e-bfdc-79e1de2a935d"
      },
      "execution_count": 39,
      "outputs": [
        {
          "output_type": "stream",
          "name": "stdout",
          "text": [
            "set()\n"
          ]
        }
      ]
    },
    {
      "cell_type": "markdown",
      "source": [
        "18. Write a code to remove the element 4 from the set {1, 2, 3, 4}."
      ],
      "metadata": {
        "id": "tDnTtzQL327r"
      }
    },
    {
      "cell_type": "code",
      "source": [
        "set2 ={1,2,3,4}\n",
        "set2.remove(4)\n",
        "print(set2)"
      ],
      "metadata": {
        "colab": {
          "base_uri": "https://localhost:8080/"
        },
        "id": "dphBm3eQ359L",
        "outputId": "326c3c74-cbf7-4e26-efc1-0a9d97236a43"
      },
      "execution_count": 57,
      "outputs": [
        {
          "output_type": "stream",
          "name": "stdout",
          "text": [
            "{1, 2, 3}\n"
          ]
        }
      ]
    },
    {
      "cell_type": "markdown",
      "source": [
        "19. Write a code to find the union of two sets {1, 2, 3} and {3, 4, 5}."
      ],
      "metadata": {
        "id": "OEHAmBOc619-"
      }
    },
    {
      "cell_type": "code",
      "source": [
        "s1 = {1, 2, 3}\n",
        "s2 = {3, 4, 5}\n",
        "union_set = s1 | s2\n",
        "print(union_set)"
      ],
      "metadata": {
        "colab": {
          "base_uri": "https://localhost:8080/"
        },
        "id": "XlDuMB6z649c",
        "outputId": "f6907795-341e-4b38-c008-d224dec40d4d"
      },
      "execution_count": 58,
      "outputs": [
        {
          "output_type": "stream",
          "name": "stdout",
          "text": [
            "{1, 2, 3, 4, 5}\n"
          ]
        }
      ]
    },
    {
      "cell_type": "markdown",
      "source": [
        "20. Write a code to find the intersection of two sets {1, 2, 3} and {2, 3, 4}."
      ],
      "metadata": {
        "id": "3v6vNuZf7hI-"
      }
    },
    {
      "cell_type": "code",
      "source": [
        "set1 = {1, 2, 3}\n",
        "set2 = {2, 3, 4}\n",
        "intersection_set = set1 & set2\n",
        "print(intersection_set)"
      ],
      "metadata": {
        "colab": {
          "base_uri": "https://localhost:8080/"
        },
        "id": "Uk9reZVn7mtY",
        "outputId": "f07f1f18-9d0f-4b6c-abc3-22a62e156c8e"
      },
      "execution_count": 59,
      "outputs": [
        {
          "output_type": "stream",
          "name": "stdout",
          "text": [
            "{2, 3}\n"
          ]
        }
      ]
    },
    {
      "cell_type": "markdown",
      "source": [
        "21. Write a code to create a dictionary with the keys \"name\", \"age\", and \"city\", and print it."
      ],
      "metadata": {
        "id": "e_6wtzjy8IH9"
      }
    },
    {
      "cell_type": "code",
      "source": [
        "person = {\"name\":\"Harsh\", \"age\":\"24\", \"city\":\"Delhi\" }\n",
        "print(person)"
      ],
      "metadata": {
        "colab": {
          "base_uri": "https://localhost:8080/"
        },
        "id": "YRh3jAiD8Lku",
        "outputId": "9cccbab2-6478-4e92-852a-d77e4ed0fc95"
      },
      "execution_count": 62,
      "outputs": [
        {
          "output_type": "stream",
          "name": "stdout",
          "text": [
            "{'name': 'Harsh', 'age': '24', 'city': 'Delhi'}\n"
          ]
        }
      ]
    },
    {
      "cell_type": "markdown",
      "source": [
        "22. Write a code to add a new key-value pair \"country\": \"USA\" to the dictionary {'name': 'John', 'age': 25}."
      ],
      "metadata": {
        "id": "g_i-vUnE8qrN"
      }
    },
    {
      "cell_type": "code",
      "source": [
        "person = {'name':'John', 'age':25}\n",
        "person[\"country\"] = \"USA\"\n",
        "print(person)"
      ],
      "metadata": {
        "colab": {
          "base_uri": "https://localhost:8080/"
        },
        "id": "YtP8-WjP8pGA",
        "outputId": "455375df-0007-484c-e935-cc80f70d857c"
      },
      "execution_count": 63,
      "outputs": [
        {
          "output_type": "stream",
          "name": "stdout",
          "text": [
            "{'name': 'John', 'age': 25, 'country': 'USA'}\n"
          ]
        }
      ]
    },
    {
      "cell_type": "markdown",
      "source": [
        "23. Write a code to access the value associated with the key \"name\" in the dictionary {'name': 'Alice', 'age': 30}."
      ],
      "metadata": {
        "id": "pV1q4FXr9mus"
      }
    },
    {
      "cell_type": "code",
      "source": [
        "person = {'name': 'Alice', 'age': 30}\n",
        "print(person[\"name\"])"
      ],
      "metadata": {
        "colab": {
          "base_uri": "https://localhost:8080/"
        },
        "id": "dLxjQ-Gn9if5",
        "outputId": "8bac35bf-1752-40b4-8b0a-a9bba1e69061"
      },
      "execution_count": 64,
      "outputs": [
        {
          "output_type": "stream",
          "name": "stdout",
          "text": [
            "Alice\n"
          ]
        }
      ]
    },
    {
      "cell_type": "markdown",
      "source": [
        "24. Write a code to remove the key \"age\" from the dictionary {'name': 'Bob', 'age': 22, 'city': 'New York'}."
      ],
      "metadata": {
        "id": "vrVm0nr8-G3S"
      }
    },
    {
      "cell_type": "code",
      "source": [
        "person = {'name': 'Bob', 'age': 22, 'city': 'New York'}\n",
        "del person[\"age\"]\n",
        "print(person)"
      ],
      "metadata": {
        "colab": {
          "base_uri": "https://localhost:8080/"
        },
        "id": "9mGQ8IXt-LX0",
        "outputId": "457552ed-b89a-4b14-97ce-c6ba5dca7b55"
      },
      "execution_count": 66,
      "outputs": [
        {
          "output_type": "stream",
          "name": "stdout",
          "text": [
            "{'name': 'Bob', 'city': 'New York'}\n"
          ]
        }
      ]
    },
    {
      "cell_type": "markdown",
      "source": [
        "25. Write a code to check if the key \"city\" exists in the dictionary {'name': 'Alice', 'city': 'Paris'}."
      ],
      "metadata": {
        "id": "AhWR04tIA0c2"
      }
    },
    {
      "cell_type": "code",
      "source": [
        "person =  {'name': 'Alice', 'city': 'Paris'}\n",
        "print('city' in person)"
      ],
      "metadata": {
        "colab": {
          "base_uri": "https://localhost:8080/"
        },
        "id": "ZJnq004ZA4u_",
        "outputId": "a8326dcb-4503-4935-d526-dea382954472"
      },
      "execution_count": 67,
      "outputs": [
        {
          "output_type": "stream",
          "name": "stdout",
          "text": [
            "True\n"
          ]
        }
      ]
    },
    {
      "cell_type": "markdown",
      "source": [
        "26. Write a code to create a list, a tuple, and a dictionary, and print them all."
      ],
      "metadata": {
        "id": "h06lavVGCuRI"
      }
    },
    {
      "cell_type": "code",
      "source": [
        "my_list = [1, 2, 3]\n",
        "my_tuple = (4, 5, 6)\n",
        "my_dict = {\"a\": 1, \"b\": 2}\n",
        "print(my_list )\n",
        "print(my_tuple)\n",
        "print(my_dict)"
      ],
      "metadata": {
        "colab": {
          "base_uri": "https://localhost:8080/"
        },
        "id": "pEtHO4KCDBb2",
        "outputId": "6a7500a8-f773-415f-d005-0515d3d79fad"
      },
      "execution_count": 70,
      "outputs": [
        {
          "output_type": "stream",
          "name": "stdout",
          "text": [
            "[1, 2, 3]\n",
            "(4, 5, 6)\n",
            "{'a': 1, 'b': 2}\n"
          ]
        }
      ]
    },
    {
      "cell_type": "markdown",
      "source": [
        "27. Write a code to create a list of 5 random numbers between 1 and 100, sort it in ascending order, and print the result.(replaced)\n"
      ],
      "metadata": {
        "id": "BhqJovrqDhvi"
      }
    },
    {
      "cell_type": "code",
      "source": [
        "import random\n",
        "rand_list = random.sample(range(1, 101), 5)\n",
        "print(rand_list)\n",
        "sorted_list = sorted(rand_list)\n",
        "print(sorted_list)\n"
      ],
      "metadata": {
        "colab": {
          "base_uri": "https://localhost:8080/"
        },
        "id": "QeeNQOQZDomc",
        "outputId": "5341c24b-d6fd-4d3c-c4c0-95a70a13e05c"
      },
      "execution_count": 73,
      "outputs": [
        {
          "output_type": "stream",
          "name": "stdout",
          "text": [
            "[11, 5, 93, 30, 72]\n",
            "[5, 11, 30, 72, 93]\n"
          ]
        }
      ]
    },
    {
      "cell_type": "markdown",
      "source": [
        "28. Write a code to create a list with strings and print the element at the third index."
      ],
      "metadata": {
        "id": "AGgJQ4YyEfcM"
      }
    },
    {
      "cell_type": "code",
      "source": [
        "strings = [\"apple\", \"banana\", \"cherry\", \"date\", \"strawberry\"]\n",
        "print(strings[3])\n"
      ],
      "metadata": {
        "colab": {
          "base_uri": "https://localhost:8080/"
        },
        "id": "vG53GlYPEg6C",
        "outputId": "efe16d72-0ae1-4d1f-8337-fad1b3df580e"
      },
      "execution_count": 74,
      "outputs": [
        {
          "output_type": "stream",
          "name": "stdout",
          "text": [
            "date\n"
          ]
        }
      ]
    },
    {
      "cell_type": "markdown",
      "source": [
        "29. Write a code to combine two dictionaries into one and print the result."
      ],
      "metadata": {
        "id": "ZnKHkyKYEuq4"
      }
    },
    {
      "cell_type": "code",
      "source": [
        "dict1 = {\"a\": 1, \"b\": 2}\n",
        "dict2 = {\"c\": 3, \"d\": 4}\n",
        "dict1.update(dict2)\n",
        "print(dict1)\n"
      ],
      "metadata": {
        "colab": {
          "base_uri": "https://localhost:8080/"
        },
        "id": "0qmfPTDoE0Ye",
        "outputId": "4b77f041-1087-4cb9-acf1-8e5eb691269b"
      },
      "execution_count": 76,
      "outputs": [
        {
          "output_type": "stream",
          "name": "stdout",
          "text": [
            "{'a': 1, 'b': 2, 'c': 3, 'd': 4}\n"
          ]
        }
      ]
    },
    {
      "cell_type": "markdown",
      "source": [
        "30. Write a code to convert a list of strings into a set."
      ],
      "metadata": {
        "id": "tBpP1bI-HhVR"
      }
    },
    {
      "cell_type": "code",
      "source": [
        "str_list = [\"one\", \"two\", \"three\"]\n",
        "\n",
        "my_new_set = set(str_list)\n",
        "print(my_new_set)"
      ],
      "metadata": {
        "colab": {
          "base_uri": "https://localhost:8080/"
        },
        "id": "4lWWcA3BJKFC",
        "outputId": "863de6f4-8283-4d51-8b06-fd31d9b9d3c4"
      },
      "execution_count": 83,
      "outputs": [
        {
          "output_type": "stream",
          "name": "stdout",
          "text": [
            "{'two', 'one', 'three'}\n"
          ]
        }
      ]
    }
  ]
}